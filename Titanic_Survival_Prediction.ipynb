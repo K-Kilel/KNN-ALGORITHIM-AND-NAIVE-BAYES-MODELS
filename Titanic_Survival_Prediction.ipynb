{
  "nbformat": 4,
  "nbformat_minor": 0,
  "metadata": {
    "colab": {
      "name": "Titanic Survival Prediction.ipynb",
      "provenance": [],
      "authorship_tag": "ABX9TyPH5vaN+RIaygtWEZzLufUU",
      "include_colab_link": true
    },
    "kernelspec": {
      "name": "python3",
      "display_name": "Python 3"
    },
    "language_info": {
      "name": "python"
    }
  },
  "cells": [
    {
      "cell_type": "markdown",
      "metadata": {
        "id": "view-in-github",
        "colab_type": "text"
      },
      "source": [
        "<a href=\"https://colab.research.google.com/github/K-Kilel/KNN-ALGORITHIM-AND-NAIVE-BAYES-MODELS/blob/main/Titanic_Survival_Prediction.ipynb\" target=\"_parent\"><img src=\"https://colab.research.google.com/assets/colab-badge.svg\" alt=\"Open In Colab\"/></a>"
      ]
    },
    {
      "cell_type": "markdown",
      "source": [
        "**RESEARCH QUESTION**\n",
        "\n",
        "Create a model that predict if a passenger in the titanic survived or not. \n",
        "\n",
        "**METRIS FOR SUCCESS**\n",
        "\n",
        "Create a model with a 70% prediction accuracy.\n",
        "\n",
        "**UNDERSTANDING THE CONTEXT**\n",
        "\n",
        "RMS Titanic was a British passenger liner, operated by the White Star Line, which sank in the North Atlantic Ocean on 15 April 1912 after striking an iceberg during her maiden voyage from Southampton, UK, to New York City.\n",
        "\n",
        "**EXPERIMENTAL DESIGN**\n",
        "\n",
        "Import the relevant libraries that we will use in our analysis.\n",
        "\n",
        "Import the datasets and check the data.\n",
        "\n",
        "Find and deal with outliers and missing data within the dataset.\n",
        "\n",
        "Perform univariate and bivariate analysis while recording our observations.\n",
        "\n",
        "Implement the solution by using the KNN classifier algorithm to predict whether a passenger survived in the Titanic crash considering the 80-20, 70-30 and 60-40 test size split\n",
        "\n",
        "Challenge the solution by giving insights on how we can optimize the model to give us a better performance\n",
        "\n",
        "\n",
        "**DATA RELEVANCE**\n",
        "\n",
        "The dataset used was obtained from kaggle using the following links:\n",
        "\n",
        "https://archive.org/download/train5_202002/train%20%285%29.csv\n",
        "\n",
        "https://archive.org/download/test1_202002/test%20%281%29.csv"
      ],
      "metadata": {
        "id": "4qH_ka8BvDtC"
      }
    },
    {
      "cell_type": "markdown",
      "source": [
        "### **Reading the Data**"
      ],
      "metadata": {
        "id": "kQ9bbsdzxeKc"
      }
    },
    {
      "cell_type": "code",
      "execution_count": 117,
      "metadata": {
        "id": "naNPiqV4xV3S"
      },
      "outputs": [],
      "source": [
        "# Importing libraries that will be used\n",
        "import pandas as pd\n",
        "import numpy as np\n",
        "import matplotlib.pyplot as plt\n",
        "%matplotlib inline\n",
        "import seaborn as sns\n",
        "\n",
        "from sklearn.metrics import accuracy_score,precision_score,recall_score,confusion_matrix,classification_report\n"
      ]
    },
    {
      "cell_type": "code",
      "source": [
        "df_train = pd.read_csv('train (5).csv')\n"
      ],
      "metadata": {
        "id": "0w_q_TV2ySu7"
      },
      "execution_count": 38,
      "outputs": []
    },
    {
      "cell_type": "code",
      "source": [
        "df_test = pd.read_csv('test (1).csv')"
      ],
      "metadata": {
        "id": "7Ev3IECGyaqN"
      },
      "execution_count": 39,
      "outputs": []
    },
    {
      "cell_type": "markdown",
      "source": [
        "### **Checking the Data**"
      ],
      "metadata": {
        "id": "z5yXk-6Mx7Nk"
      }
    },
    {
      "cell_type": "code",
      "source": [
        "# Previewing the top 5 records\n",
        "df_train.head()"
      ],
      "metadata": {
        "id": "Bmv7B9eAyzFA",
        "colab": {
          "base_uri": "https://localhost:8080/",
          "height": 206
        },
        "outputId": "fce47ba7-8472-4b77-81e6-0f134a8049a3"
      },
      "execution_count": 40,
      "outputs": [
        {
          "output_type": "execute_result",
          "data": {
            "text/html": [
              "<div>\n",
              "<style scoped>\n",
              "    .dataframe tbody tr th:only-of-type {\n",
              "        vertical-align: middle;\n",
              "    }\n",
              "\n",
              "    .dataframe tbody tr th {\n",
              "        vertical-align: top;\n",
              "    }\n",
              "\n",
              "    .dataframe thead th {\n",
              "        text-align: right;\n",
              "    }\n",
              "</style>\n",
              "<table border=\"1\" class=\"dataframe\">\n",
              "  <thead>\n",
              "    <tr style=\"text-align: right;\">\n",
              "      <th></th>\n",
              "      <th>PassengerId</th>\n",
              "      <th>Survived</th>\n",
              "      <th>Pclass</th>\n",
              "      <th>Name</th>\n",
              "      <th>Sex</th>\n",
              "      <th>Age</th>\n",
              "      <th>SibSp</th>\n",
              "      <th>Parch</th>\n",
              "      <th>Ticket</th>\n",
              "      <th>Fare</th>\n",
              "      <th>Cabin</th>\n",
              "      <th>Embarked</th>\n",
              "    </tr>\n",
              "  </thead>\n",
              "  <tbody>\n",
              "    <tr>\n",
              "      <th>0</th>\n",
              "      <td>1</td>\n",
              "      <td>0</td>\n",
              "      <td>3</td>\n",
              "      <td>Braund, Mr. Owen Harris</td>\n",
              "      <td>male</td>\n",
              "      <td>22.0</td>\n",
              "      <td>1</td>\n",
              "      <td>0</td>\n",
              "      <td>A/5 21171</td>\n",
              "      <td>7.2500</td>\n",
              "      <td>NaN</td>\n",
              "      <td>S</td>\n",
              "    </tr>\n",
              "    <tr>\n",
              "      <th>1</th>\n",
              "      <td>2</td>\n",
              "      <td>1</td>\n",
              "      <td>1</td>\n",
              "      <td>Cumings, Mrs. John Bradley (Florence Briggs Th...</td>\n",
              "      <td>female</td>\n",
              "      <td>38.0</td>\n",
              "      <td>1</td>\n",
              "      <td>0</td>\n",
              "      <td>PC 17599</td>\n",
              "      <td>71.2833</td>\n",
              "      <td>C85</td>\n",
              "      <td>C</td>\n",
              "    </tr>\n",
              "    <tr>\n",
              "      <th>2</th>\n",
              "      <td>3</td>\n",
              "      <td>1</td>\n",
              "      <td>3</td>\n",
              "      <td>Heikkinen, Miss. Laina</td>\n",
              "      <td>female</td>\n",
              "      <td>26.0</td>\n",
              "      <td>0</td>\n",
              "      <td>0</td>\n",
              "      <td>STON/O2. 3101282</td>\n",
              "      <td>7.9250</td>\n",
              "      <td>NaN</td>\n",
              "      <td>S</td>\n",
              "    </tr>\n",
              "    <tr>\n",
              "      <th>3</th>\n",
              "      <td>4</td>\n",
              "      <td>1</td>\n",
              "      <td>1</td>\n",
              "      <td>Futrelle, Mrs. Jacques Heath (Lily May Peel)</td>\n",
              "      <td>female</td>\n",
              "      <td>35.0</td>\n",
              "      <td>1</td>\n",
              "      <td>0</td>\n",
              "      <td>113803</td>\n",
              "      <td>53.1000</td>\n",
              "      <td>C123</td>\n",
              "      <td>S</td>\n",
              "    </tr>\n",
              "    <tr>\n",
              "      <th>4</th>\n",
              "      <td>5</td>\n",
              "      <td>0</td>\n",
              "      <td>3</td>\n",
              "      <td>Allen, Mr. William Henry</td>\n",
              "      <td>male</td>\n",
              "      <td>35.0</td>\n",
              "      <td>0</td>\n",
              "      <td>0</td>\n",
              "      <td>373450</td>\n",
              "      <td>8.0500</td>\n",
              "      <td>NaN</td>\n",
              "      <td>S</td>\n",
              "    </tr>\n",
              "  </tbody>\n",
              "</table>\n",
              "</div>"
            ],
            "text/plain": [
              "   PassengerId  Survived  Pclass  ...     Fare Cabin  Embarked\n",
              "0            1         0       3  ...   7.2500   NaN         S\n",
              "1            2         1       1  ...  71.2833   C85         C\n",
              "2            3         1       3  ...   7.9250   NaN         S\n",
              "3            4         1       1  ...  53.1000  C123         S\n",
              "4            5         0       3  ...   8.0500   NaN         S\n",
              "\n",
              "[5 rows x 12 columns]"
            ]
          },
          "metadata": {},
          "execution_count": 40
        }
      ]
    },
    {
      "cell_type": "code",
      "source": [
        "# Previewing the top 5 records\n",
        "df_test.head()"
      ],
      "metadata": {
        "colab": {
          "base_uri": "https://localhost:8080/",
          "height": 206
        },
        "id": "GaHC1_ypyJre",
        "outputId": "0b9b32b6-79cf-451f-dc4c-05b14602dd5e"
      },
      "execution_count": 41,
      "outputs": [
        {
          "output_type": "execute_result",
          "data": {
            "text/html": [
              "<div>\n",
              "<style scoped>\n",
              "    .dataframe tbody tr th:only-of-type {\n",
              "        vertical-align: middle;\n",
              "    }\n",
              "\n",
              "    .dataframe tbody tr th {\n",
              "        vertical-align: top;\n",
              "    }\n",
              "\n",
              "    .dataframe thead th {\n",
              "        text-align: right;\n",
              "    }\n",
              "</style>\n",
              "<table border=\"1\" class=\"dataframe\">\n",
              "  <thead>\n",
              "    <tr style=\"text-align: right;\">\n",
              "      <th></th>\n",
              "      <th>PassengerId</th>\n",
              "      <th>Pclass</th>\n",
              "      <th>Name</th>\n",
              "      <th>Sex</th>\n",
              "      <th>Age</th>\n",
              "      <th>SibSp</th>\n",
              "      <th>Parch</th>\n",
              "      <th>Ticket</th>\n",
              "      <th>Fare</th>\n",
              "      <th>Cabin</th>\n",
              "      <th>Embarked</th>\n",
              "    </tr>\n",
              "  </thead>\n",
              "  <tbody>\n",
              "    <tr>\n",
              "      <th>0</th>\n",
              "      <td>892</td>\n",
              "      <td>3</td>\n",
              "      <td>Kelly, Mr. James</td>\n",
              "      <td>male</td>\n",
              "      <td>34.5</td>\n",
              "      <td>0</td>\n",
              "      <td>0</td>\n",
              "      <td>330911</td>\n",
              "      <td>7.8292</td>\n",
              "      <td>NaN</td>\n",
              "      <td>Q</td>\n",
              "    </tr>\n",
              "    <tr>\n",
              "      <th>1</th>\n",
              "      <td>893</td>\n",
              "      <td>3</td>\n",
              "      <td>Wilkes, Mrs. James (Ellen Needs)</td>\n",
              "      <td>female</td>\n",
              "      <td>47.0</td>\n",
              "      <td>1</td>\n",
              "      <td>0</td>\n",
              "      <td>363272</td>\n",
              "      <td>7.0000</td>\n",
              "      <td>NaN</td>\n",
              "      <td>S</td>\n",
              "    </tr>\n",
              "    <tr>\n",
              "      <th>2</th>\n",
              "      <td>894</td>\n",
              "      <td>2</td>\n",
              "      <td>Myles, Mr. Thomas Francis</td>\n",
              "      <td>male</td>\n",
              "      <td>62.0</td>\n",
              "      <td>0</td>\n",
              "      <td>0</td>\n",
              "      <td>240276</td>\n",
              "      <td>9.6875</td>\n",
              "      <td>NaN</td>\n",
              "      <td>Q</td>\n",
              "    </tr>\n",
              "    <tr>\n",
              "      <th>3</th>\n",
              "      <td>895</td>\n",
              "      <td>3</td>\n",
              "      <td>Wirz, Mr. Albert</td>\n",
              "      <td>male</td>\n",
              "      <td>27.0</td>\n",
              "      <td>0</td>\n",
              "      <td>0</td>\n",
              "      <td>315154</td>\n",
              "      <td>8.6625</td>\n",
              "      <td>NaN</td>\n",
              "      <td>S</td>\n",
              "    </tr>\n",
              "    <tr>\n",
              "      <th>4</th>\n",
              "      <td>896</td>\n",
              "      <td>3</td>\n",
              "      <td>Hirvonen, Mrs. Alexander (Helga E Lindqvist)</td>\n",
              "      <td>female</td>\n",
              "      <td>22.0</td>\n",
              "      <td>1</td>\n",
              "      <td>1</td>\n",
              "      <td>3101298</td>\n",
              "      <td>12.2875</td>\n",
              "      <td>NaN</td>\n",
              "      <td>S</td>\n",
              "    </tr>\n",
              "  </tbody>\n",
              "</table>\n",
              "</div>"
            ],
            "text/plain": [
              "   PassengerId  Pclass  ... Cabin Embarked\n",
              "0          892       3  ...   NaN        Q\n",
              "1          893       3  ...   NaN        S\n",
              "2          894       2  ...   NaN        Q\n",
              "3          895       3  ...   NaN        S\n",
              "4          896       3  ...   NaN        S\n",
              "\n",
              "[5 rows x 11 columns]"
            ]
          },
          "metadata": {},
          "execution_count": 41
        }
      ]
    },
    {
      "cell_type": "code",
      "source": [
        "# Previewing the bottom records\n",
        "df_train.tail()"
      ],
      "metadata": {
        "colab": {
          "base_uri": "https://localhost:8080/",
          "height": 206
        },
        "id": "4ynoirS9yM9m",
        "outputId": "7e17b15f-cb82-4100-f027-f021b8203051"
      },
      "execution_count": 42,
      "outputs": [
        {
          "output_type": "execute_result",
          "data": {
            "text/html": [
              "<div>\n",
              "<style scoped>\n",
              "    .dataframe tbody tr th:only-of-type {\n",
              "        vertical-align: middle;\n",
              "    }\n",
              "\n",
              "    .dataframe tbody tr th {\n",
              "        vertical-align: top;\n",
              "    }\n",
              "\n",
              "    .dataframe thead th {\n",
              "        text-align: right;\n",
              "    }\n",
              "</style>\n",
              "<table border=\"1\" class=\"dataframe\">\n",
              "  <thead>\n",
              "    <tr style=\"text-align: right;\">\n",
              "      <th></th>\n",
              "      <th>PassengerId</th>\n",
              "      <th>Survived</th>\n",
              "      <th>Pclass</th>\n",
              "      <th>Name</th>\n",
              "      <th>Sex</th>\n",
              "      <th>Age</th>\n",
              "      <th>SibSp</th>\n",
              "      <th>Parch</th>\n",
              "      <th>Ticket</th>\n",
              "      <th>Fare</th>\n",
              "      <th>Cabin</th>\n",
              "      <th>Embarked</th>\n",
              "    </tr>\n",
              "  </thead>\n",
              "  <tbody>\n",
              "    <tr>\n",
              "      <th>886</th>\n",
              "      <td>887</td>\n",
              "      <td>0</td>\n",
              "      <td>2</td>\n",
              "      <td>Montvila, Rev. Juozas</td>\n",
              "      <td>male</td>\n",
              "      <td>27.0</td>\n",
              "      <td>0</td>\n",
              "      <td>0</td>\n",
              "      <td>211536</td>\n",
              "      <td>13.00</td>\n",
              "      <td>NaN</td>\n",
              "      <td>S</td>\n",
              "    </tr>\n",
              "    <tr>\n",
              "      <th>887</th>\n",
              "      <td>888</td>\n",
              "      <td>1</td>\n",
              "      <td>1</td>\n",
              "      <td>Graham, Miss. Margaret Edith</td>\n",
              "      <td>female</td>\n",
              "      <td>19.0</td>\n",
              "      <td>0</td>\n",
              "      <td>0</td>\n",
              "      <td>112053</td>\n",
              "      <td>30.00</td>\n",
              "      <td>B42</td>\n",
              "      <td>S</td>\n",
              "    </tr>\n",
              "    <tr>\n",
              "      <th>888</th>\n",
              "      <td>889</td>\n",
              "      <td>0</td>\n",
              "      <td>3</td>\n",
              "      <td>Johnston, Miss. Catherine Helen \"Carrie\"</td>\n",
              "      <td>female</td>\n",
              "      <td>NaN</td>\n",
              "      <td>1</td>\n",
              "      <td>2</td>\n",
              "      <td>W./C. 6607</td>\n",
              "      <td>23.45</td>\n",
              "      <td>NaN</td>\n",
              "      <td>S</td>\n",
              "    </tr>\n",
              "    <tr>\n",
              "      <th>889</th>\n",
              "      <td>890</td>\n",
              "      <td>1</td>\n",
              "      <td>1</td>\n",
              "      <td>Behr, Mr. Karl Howell</td>\n",
              "      <td>male</td>\n",
              "      <td>26.0</td>\n",
              "      <td>0</td>\n",
              "      <td>0</td>\n",
              "      <td>111369</td>\n",
              "      <td>30.00</td>\n",
              "      <td>C148</td>\n",
              "      <td>C</td>\n",
              "    </tr>\n",
              "    <tr>\n",
              "      <th>890</th>\n",
              "      <td>891</td>\n",
              "      <td>0</td>\n",
              "      <td>3</td>\n",
              "      <td>Dooley, Mr. Patrick</td>\n",
              "      <td>male</td>\n",
              "      <td>32.0</td>\n",
              "      <td>0</td>\n",
              "      <td>0</td>\n",
              "      <td>370376</td>\n",
              "      <td>7.75</td>\n",
              "      <td>NaN</td>\n",
              "      <td>Q</td>\n",
              "    </tr>\n",
              "  </tbody>\n",
              "</table>\n",
              "</div>"
            ],
            "text/plain": [
              "     PassengerId  Survived  Pclass  ...   Fare Cabin  Embarked\n",
              "886          887         0       2  ...  13.00   NaN         S\n",
              "887          888         1       1  ...  30.00   B42         S\n",
              "888          889         0       3  ...  23.45   NaN         S\n",
              "889          890         1       1  ...  30.00  C148         C\n",
              "890          891         0       3  ...   7.75   NaN         Q\n",
              "\n",
              "[5 rows x 12 columns]"
            ]
          },
          "metadata": {},
          "execution_count": 42
        }
      ]
    },
    {
      "cell_type": "code",
      "source": [
        "# Previewing the bottom records\n",
        "df_test.tail()"
      ],
      "metadata": {
        "colab": {
          "base_uri": "https://localhost:8080/",
          "height": 206
        },
        "id": "MBCLLZLZyV6u",
        "outputId": "a112b368-5adb-4cb1-bac7-08b70c80a1bc"
      },
      "execution_count": 43,
      "outputs": [
        {
          "output_type": "execute_result",
          "data": {
            "text/html": [
              "<div>\n",
              "<style scoped>\n",
              "    .dataframe tbody tr th:only-of-type {\n",
              "        vertical-align: middle;\n",
              "    }\n",
              "\n",
              "    .dataframe tbody tr th {\n",
              "        vertical-align: top;\n",
              "    }\n",
              "\n",
              "    .dataframe thead th {\n",
              "        text-align: right;\n",
              "    }\n",
              "</style>\n",
              "<table border=\"1\" class=\"dataframe\">\n",
              "  <thead>\n",
              "    <tr style=\"text-align: right;\">\n",
              "      <th></th>\n",
              "      <th>PassengerId</th>\n",
              "      <th>Pclass</th>\n",
              "      <th>Name</th>\n",
              "      <th>Sex</th>\n",
              "      <th>Age</th>\n",
              "      <th>SibSp</th>\n",
              "      <th>Parch</th>\n",
              "      <th>Ticket</th>\n",
              "      <th>Fare</th>\n",
              "      <th>Cabin</th>\n",
              "      <th>Embarked</th>\n",
              "    </tr>\n",
              "  </thead>\n",
              "  <tbody>\n",
              "    <tr>\n",
              "      <th>413</th>\n",
              "      <td>1305</td>\n",
              "      <td>3</td>\n",
              "      <td>Spector, Mr. Woolf</td>\n",
              "      <td>male</td>\n",
              "      <td>NaN</td>\n",
              "      <td>0</td>\n",
              "      <td>0</td>\n",
              "      <td>A.5. 3236</td>\n",
              "      <td>8.0500</td>\n",
              "      <td>NaN</td>\n",
              "      <td>S</td>\n",
              "    </tr>\n",
              "    <tr>\n",
              "      <th>414</th>\n",
              "      <td>1306</td>\n",
              "      <td>1</td>\n",
              "      <td>Oliva y Ocana, Dona. Fermina</td>\n",
              "      <td>female</td>\n",
              "      <td>39.0</td>\n",
              "      <td>0</td>\n",
              "      <td>0</td>\n",
              "      <td>PC 17758</td>\n",
              "      <td>108.9000</td>\n",
              "      <td>C105</td>\n",
              "      <td>C</td>\n",
              "    </tr>\n",
              "    <tr>\n",
              "      <th>415</th>\n",
              "      <td>1307</td>\n",
              "      <td>3</td>\n",
              "      <td>Saether, Mr. Simon Sivertsen</td>\n",
              "      <td>male</td>\n",
              "      <td>38.5</td>\n",
              "      <td>0</td>\n",
              "      <td>0</td>\n",
              "      <td>SOTON/O.Q. 3101262</td>\n",
              "      <td>7.2500</td>\n",
              "      <td>NaN</td>\n",
              "      <td>S</td>\n",
              "    </tr>\n",
              "    <tr>\n",
              "      <th>416</th>\n",
              "      <td>1308</td>\n",
              "      <td>3</td>\n",
              "      <td>Ware, Mr. Frederick</td>\n",
              "      <td>male</td>\n",
              "      <td>NaN</td>\n",
              "      <td>0</td>\n",
              "      <td>0</td>\n",
              "      <td>359309</td>\n",
              "      <td>8.0500</td>\n",
              "      <td>NaN</td>\n",
              "      <td>S</td>\n",
              "    </tr>\n",
              "    <tr>\n",
              "      <th>417</th>\n",
              "      <td>1309</td>\n",
              "      <td>3</td>\n",
              "      <td>Peter, Master. Michael J</td>\n",
              "      <td>male</td>\n",
              "      <td>NaN</td>\n",
              "      <td>1</td>\n",
              "      <td>1</td>\n",
              "      <td>2668</td>\n",
              "      <td>22.3583</td>\n",
              "      <td>NaN</td>\n",
              "      <td>C</td>\n",
              "    </tr>\n",
              "  </tbody>\n",
              "</table>\n",
              "</div>"
            ],
            "text/plain": [
              "     PassengerId  Pclass                          Name  ...      Fare  Cabin  Embarked\n",
              "413         1305       3            Spector, Mr. Woolf  ...    8.0500    NaN         S\n",
              "414         1306       1  Oliva y Ocana, Dona. Fermina  ...  108.9000   C105         C\n",
              "415         1307       3  Saether, Mr. Simon Sivertsen  ...    7.2500    NaN         S\n",
              "416         1308       3           Ware, Mr. Frederick  ...    8.0500    NaN         S\n",
              "417         1309       3      Peter, Master. Michael J  ...   22.3583    NaN         C\n",
              "\n",
              "[5 rows x 11 columns]"
            ]
          },
          "metadata": {},
          "execution_count": 43
        }
      ]
    },
    {
      "cell_type": "code",
      "source": [
        "# Determing the number of records\n",
        "print('The train dataset has',df_train.shape[0], 'rows and', df_train.shape[1], 'columns.')"
      ],
      "metadata": {
        "colab": {
          "base_uri": "https://localhost:8080/"
        },
        "id": "2FxKKKKKyZac",
        "outputId": "5c2570b4-2b0e-4425-b477-8d626af2599b"
      },
      "execution_count": 44,
      "outputs": [
        {
          "output_type": "stream",
          "name": "stdout",
          "text": [
            "The train dataset has 891 rows and 12 columns.\n"
          ]
        }
      ]
    },
    {
      "cell_type": "code",
      "source": [
        "# Determing the number of records\n",
        "print('The test dataset has',df_test.shape[0], 'rows and', df_test.shape[1], 'columns.')"
      ],
      "metadata": {
        "colab": {
          "base_uri": "https://localhost:8080/"
        },
        "id": "qLsKmZNXyuyT",
        "outputId": "8afa3551-8734-426b-83d2-b1e93d9d4500"
      },
      "execution_count": 45,
      "outputs": [
        {
          "output_type": "stream",
          "name": "stdout",
          "text": [
            "The test dataset has 418 rows and 11 columns.\n"
          ]
        }
      ]
    },
    {
      "cell_type": "code",
      "source": [
        "# Checking the data types of each column\n",
        "\n",
        "df_train.dtypes"
      ],
      "metadata": {
        "colab": {
          "base_uri": "https://localhost:8080/"
        },
        "id": "zDt50dgVy_Mi",
        "outputId": "601f6e95-3d00-4231-aa44-368086606c75"
      },
      "execution_count": 46,
      "outputs": [
        {
          "output_type": "execute_result",
          "data": {
            "text/plain": [
              "PassengerId      int64\n",
              "Survived         int64\n",
              "Pclass           int64\n",
              "Name            object\n",
              "Sex             object\n",
              "Age            float64\n",
              "SibSp            int64\n",
              "Parch            int64\n",
              "Ticket          object\n",
              "Fare           float64\n",
              "Cabin           object\n",
              "Embarked        object\n",
              "dtype: object"
            ]
          },
          "metadata": {},
          "execution_count": 46
        }
      ]
    },
    {
      "cell_type": "code",
      "source": [
        "# Converting Age column to int\n",
        "\n",
        "df_train = df_train.astype({'Age': int})"
      ],
      "metadata": {
        "id": "56CSEc9WBfBS"
      },
      "execution_count": 65,
      "outputs": []
    },
    {
      "cell_type": "markdown",
      "source": [
        "### **Datasets Information**\n",
        "\n",
        "Survived - Survival (0 = No; 1 = Yes)\n",
        "\n",
        "Pclass - Passenger Class (1 = 1st; 2 = 2nd; 3 = 3rd)\n",
        "\n",
        "Name - Name\n",
        "\n",
        "Sex - Sex\n",
        "\n",
        "Age - Age\n",
        "\n",
        "SibSp - Number of Siblings/Spouses Aboard\n",
        "\n",
        "Parch - Number of Parents/Children Aboard\n",
        "\n",
        "Ticket - Ticket Number\n",
        "\n",
        "Fare - Passenger Fare (British pound)\n",
        "\n",
        "Cabin - Cabin\n",
        "\n",
        "Embarked - Port of Embarkation (C = Cherbourg; Q = Queenstown; S = Southampton)"
      ],
      "metadata": {
        "id": "oSoBxW7tzsw4"
      }
    },
    {
      "cell_type": "markdown",
      "source": [
        "### **Tidying the Dataset**"
      ],
      "metadata": {
        "id": "OlWf6MxM1blT"
      }
    },
    {
      "cell_type": "code",
      "source": [
        "# Checking for Outliers\n",
        "\n",
        "col_names = ['Age', 'SibSp', 'Parch', 'Fare']\n",
        "\n",
        "fig, ax = plt.subplots(len(col_names), figsize=(10,8))\n",
        "\n",
        "for i, col_val in enumerate(col_names):\n",
        "\n",
        "    sns.boxplot(y= df_train[col_val], ax=ax[i])\n",
        "    ax[i].set_title('Box plot - {}'.format(col_val), fontsize=10)\n",
        "    #ax[i].set_xlabel(col_val, fontsize=8)\n",
        "\n",
        "plt.show()"
      ],
      "metadata": {
        "colab": {
          "base_uri": "https://localhost:8080/",
          "height": 483
        },
        "id": "hZd5SLDWzRlJ",
        "outputId": "1ce3e9f6-30a0-4cfc-cac6-2cffa1113ba2"
      },
      "execution_count": 47,
      "outputs": [
        {
          "output_type": "display_data",
          "data": {
            "image/png": "[encoded data removed]",
            "text/plain": [
              "<Figure size 720x576 with 4 Axes>"
            ]
          },
          "metadata": {
            "needs_background": "light"
          }
        }
      ]
    },
    {
      "cell_type": "markdown",
      "source": [
        "There are outliers on the numerical columns. We will not delete the outliers because they are justified.\n",
        "1. For Age column, we could have people that are older than 70 years.\n",
        "2. For SibSp and Parch, the dataset could have a whole family of more than 2 people.\n",
        "3. For Fare, the fare range depends on several factors such as Cabin, port and passenger class."
      ],
      "metadata": {
        "id": "VpFAkJd42klI"
      }
    },
    {
      "cell_type": "code",
      "source": [
        "# Checking for duplicates\n",
        "\n",
        "print('There are', df_train.duplicated().sum(), 'duplicates in our dataset.')\n"
      ],
      "metadata": {
        "colab": {
          "base_uri": "https://localhost:8080/"
        },
        "id": "Ov78Hbvp1o1G",
        "outputId": "dd0d02a2-d13f-461f-8d0f-18eb245d1963"
      },
      "execution_count": 48,
      "outputs": [
        {
          "output_type": "stream",
          "name": "stdout",
          "text": [
            "There are 0 duplicates in our dataset.\n"
          ]
        }
      ]
    },
    {
      "cell_type": "code",
      "source": [
        "# Checking for missing values\n",
        "\n",
        "df_train.isnull().sum()"
      ],
      "metadata": {
        "colab": {
          "base_uri": "https://localhost:8080/"
        },
        "id": "WRpqsC6c4Vun",
        "outputId": "59e5e437-cd0d-45f3-d947-2138024ece44"
      },
      "execution_count": 49,
      "outputs": [
        {
          "output_type": "execute_result",
          "data": {
            "text/plain": [
              "PassengerId      0\n",
              "Survived         0\n",
              "Pclass           0\n",
              "Name             0\n",
              "Sex              0\n",
              "Age            177\n",
              "SibSp            0\n",
              "Parch            0\n",
              "Ticket           0\n",
              "Fare             0\n",
              "Cabin          687\n",
              "Embarked         2\n",
              "dtype: int64"
            ]
          },
          "metadata": {},
          "execution_count": 49
        }
      ]
    },
    {
      "cell_type": "markdown",
      "source": [
        "The age has 177 null values, Cabin has 687 and Embarked has 2 null values."
      ],
      "metadata": {
        "id": "PlP0XyN447i8"
      }
    },
    {
      "cell_type": "code",
      "source": [
        "# Dealing with missing values on the Age Column. \n",
        "# Replace the null values with mean age in each passenger class.\n",
        "# Visualizing the passenger class and age \n",
        "\n",
        "sns.boxplot(x='Pclass', y='Age', data=df_train, palette='hls')"
      ],
      "metadata": {
        "colab": {
          "base_uri": "https://localhost:8080/",
          "height": 296
        },
        "id": "J5yjneGS446E",
        "outputId": "2759d61d-5707-4c01-b30a-5471afdf9e69"
      },
      "execution_count": 50,
      "outputs": [
        {
          "output_type": "execute_result",
          "data": {
            "text/plain": [
              "<matplotlib.axes._subplots.AxesSubplot at 0x7fee54050e10>"
            ]
          },
          "metadata": {},
          "execution_count": 50
        },
        {
          "output_type": "display_data",
          "data": {
            "image/png": "[encoded data removed]",
            "text/plain": [
              "<Figure size 432x288 with 1 Axes>"
            ]
          },
          "metadata": {
            "needs_background": "light"
          }
        }
      ]
    },
    {
      "cell_type": "code",
      "source": [
        "# Finding the mean age according to passenger class\n",
        "df_train.groupby('Pclass').agg({'Age':[ 'mean']})"
      ],
      "metadata": {
        "colab": {
          "base_uri": "https://localhost:8080/",
          "height": 206
        },
        "id": "y32GOGUF7zBk",
        "outputId": "8bc38691-5340-40d0-e2ce-793039206e96"
      },
      "execution_count": 51,
      "outputs": [
        {
          "output_type": "execute_result",
          "data": {
            "text/html": [
              "<div>\n",
              "<style scoped>\n",
              "    .dataframe tbody tr th:only-of-type {\n",
              "        vertical-align: middle;\n",
              "    }\n",
              "\n",
              "    .dataframe tbody tr th {\n",
              "        vertical-align: top;\n",
              "    }\n",
              "\n",
              "    .dataframe thead tr th {\n",
              "        text-align: left;\n",
              "    }\n",
              "\n",
              "    .dataframe thead tr:last-of-type th {\n",
              "        text-align: right;\n",
              "    }\n",
              "</style>\n",
              "<table border=\"1\" class=\"dataframe\">\n",
              "  <thead>\n",
              "    <tr>\n",
              "      <th></th>\n",
              "      <th>Age</th>\n",
              "    </tr>\n",
              "    <tr>\n",
              "      <th></th>\n",
              "      <th>mean</th>\n",
              "    </tr>\n",
              "    <tr>\n",
              "      <th>Pclass</th>\n",
              "      <th></th>\n",
              "    </tr>\n",
              "  </thead>\n",
              "  <tbody>\n",
              "    <tr>\n",
              "      <th>1</th>\n",
              "      <td>38.233441</td>\n",
              "    </tr>\n",
              "    <tr>\n",
              "      <th>2</th>\n",
              "      <td>29.877630</td>\n",
              "    </tr>\n",
              "    <tr>\n",
              "      <th>3</th>\n",
              "      <td>25.140620</td>\n",
              "    </tr>\n",
              "  </tbody>\n",
              "</table>\n",
              "</div>"
            ],
            "text/plain": [
              "              Age\n",
              "             mean\n",
              "Pclass           \n",
              "1       38.233441\n",
              "2       29.877630\n",
              "3       25.140620"
            ]
          },
          "metadata": {},
          "execution_count": 51
        }
      ]
    },
    {
      "cell_type": "code",
      "source": [
        "# Replacing the null values with mean age in each passenger class.\n",
        "\n",
        "def age_approx(cols):\n",
        "    Age = cols[0]\n",
        "    Pclass = cols[1]\n",
        "    \n",
        "    if pd.isnull(Age):\n",
        "        if Pclass == 1:\n",
        "            return 38\n",
        "        elif Pclass == 2:\n",
        "            return 30\n",
        "        elif Pclass == 3:\n",
        "            return 25\n",
        "    else:\n",
        "        return Age\n",
        "\n",
        "df_train.Age= df_train[['Age', 'Pclass']].apply(impute, axis=1)\n",
        "\n",
        "# Checking to confirm the changes\n",
        "\n",
        "df_train.isnull().sum()"
      ],
      "metadata": {
        "colab": {
          "base_uri": "https://localhost:8080/"
        },
        "id": "-5Up4I0157vP",
        "outputId": "be643f2d-d9b5-494a-9497-7a30a46eb57a"
      },
      "execution_count": 54,
      "outputs": [
        {
          "output_type": "execute_result",
          "data": {
            "text/plain": [
              "PassengerId      0\n",
              "Survived         0\n",
              "Pclass           0\n",
              "Name             0\n",
              "Sex              0\n",
              "Age              0\n",
              "SibSp            0\n",
              "Parch            0\n",
              "Ticket           0\n",
              "Fare             0\n",
              "Cabin          687\n",
              "Embarked         2\n",
              "dtype: int64"
            ]
          },
          "metadata": {},
          "execution_count": 54
        }
      ]
    },
    {
      "cell_type": "code",
      "source": [
        "# The Cabin column that has most null values will be dropped as it will affect the accuracy of the model.\n",
        "\n",
        "df_train.drop(['Cabin'], axis = 1, inplace= True)"
      ],
      "metadata": {
        "id": "igPjxR9MAWIa"
      },
      "execution_count": 55,
      "outputs": []
    },
    {
      "cell_type": "code",
      "source": [
        "# The two missing values in Embark will be dropped\n",
        "\n",
        "df_train.dropna(inplace=True)"
      ],
      "metadata": {
        "id": "rOnk9Oue7vA8"
      },
      "execution_count": 56,
      "outputs": []
    },
    {
      "cell_type": "code",
      "source": [
        "# Checking the clean dataset\n",
        "df_train.info()"
      ],
      "metadata": {
        "colab": {
          "base_uri": "https://localhost:8080/"
        },
        "id": "veiKYjmeA0Rs",
        "outputId": "c7f37a25-72a6-4c58-eba8-1308216ccb15"
      },
      "execution_count": 66,
      "outputs": [
        {
          "output_type": "stream",
          "name": "stdout",
          "text": [
            "<class 'pandas.core.frame.DataFrame'>\n",
            "Int64Index: 889 entries, 0 to 890\n",
            "Data columns (total 11 columns):\n",
            " #   Column       Non-Null Count  Dtype  \n",
            "---  ------       --------------  -----  \n",
            " 0   PassengerId  889 non-null    int64  \n",
            " 1   Survived     889 non-null    int64  \n",
            " 2   Pclass       889 non-null    int64  \n",
            " 3   Name         889 non-null    object \n",
            " 4   Sex          889 non-null    object \n",
            " 5   Age          889 non-null    int64  \n",
            " 6   SibSp        889 non-null    int64  \n",
            " 7   Parch        889 non-null    int64  \n",
            " 8   Ticket       889 non-null    object \n",
            " 9   Fare         889 non-null    float64\n",
            " 10  Embarked     889 non-null    object \n",
            "dtypes: float64(1), int64(6), object(4)\n",
            "memory usage: 83.3+ KB\n"
          ]
        }
      ]
    },
    {
      "cell_type": "code",
      "source": [
        "# For consistency and easy reference the columns should be uniform\n",
        "# Changing all column names to lower case\n",
        "\n",
        "df_train.columns = df_train.columns.str.lower()\n",
        "\n",
        "# Previewing the columns to confirm whether the changes have taken effect\n",
        "#\n",
        "df_train.columns"
      ],
      "metadata": {
        "colab": {
          "base_uri": "https://localhost:8080/"
        },
        "id": "GP01EMXJBExC",
        "outputId": "4cf39a5e-1b66-40ad-be9f-3643214802bb"
      },
      "execution_count": 67,
      "outputs": [
        {
          "output_type": "execute_result",
          "data": {
            "text/plain": [
              "Index(['passengerid', 'survived', 'pclass', 'name', 'sex', 'age', 'sibsp',\n",
              "       'parch', 'ticket', 'fare', 'embarked'],\n",
              "      dtype='object')"
            ]
          },
          "metadata": {},
          "execution_count": 67
        }
      ]
    },
    {
      "cell_type": "markdown",
      "source": [
        "### **Exploratory Data Analysis**\n",
        "\n",
        "1. **Univariate Analysis**"
      ],
      "metadata": {
        "id": "HMmeQXl0CXIK"
      }
    },
    {
      "cell_type": "code",
      "source": [
        "# Central Tendencies\n",
        "\n",
        "# Mode\n",
        "\n",
        "num_cols = df_train[['age', 'sibsp', 'parch', 'fare']]\n",
        "num_cols.mode()"
      ],
      "metadata": {
        "colab": {
          "base_uri": "https://localhost:8080/",
          "height": 81
        },
        "id": "atptydUQCTuP",
        "outputId": "05bdcb12-f99f-49de-aa2b-c572b1b34449"
      },
      "execution_count": 79,
      "outputs": [
        {
          "output_type": "execute_result",
          "data": {
            "text/html": [
              "<div>\n",
              "<style scoped>\n",
              "    .dataframe tbody tr th:only-of-type {\n",
              "        vertical-align: middle;\n",
              "    }\n",
              "\n",
              "    .dataframe tbody tr th {\n",
              "        vertical-align: top;\n",
              "    }\n",
              "\n",
              "    .dataframe thead th {\n",
              "        text-align: right;\n",
              "    }\n",
              "</style>\n",
              "<table border=\"1\" class=\"dataframe\">\n",
              "  <thead>\n",
              "    <tr style=\"text-align: right;\">\n",
              "      <th></th>\n",
              "      <th>age</th>\n",
              "      <th>sibsp</th>\n",
              "      <th>parch</th>\n",
              "      <th>fare</th>\n",
              "    </tr>\n",
              "  </thead>\n",
              "  <tbody>\n",
              "    <tr>\n",
              "      <th>0</th>\n",
              "      <td>25</td>\n",
              "      <td>0</td>\n",
              "      <td>0</td>\n",
              "      <td>8.05</td>\n",
              "    </tr>\n",
              "  </tbody>\n",
              "</table>\n",
              "</div>"
            ],
            "text/plain": [
              "   age  sibsp  parch  fare\n",
              "0   25      0      0  8.05"
            ]
          },
          "metadata": {},
          "execution_count": 79
        }
      ]
    },
    {
      "cell_type": "markdown",
      "source": [
        "Most people from our data were aged 25 years.\n",
        "Most passengers did not have siblings or parents accompanying them."
      ],
      "metadata": {
        "id": "TA1k8qikDla7"
      }
    },
    {
      "cell_type": "code",
      "source": [
        "# Finding Mean\n",
        "\n",
        "num_cols.mean()"
      ],
      "metadata": {
        "colab": {
          "base_uri": "https://localhost:8080/"
        },
        "id": "llu_xFkGDRuY",
        "outputId": "c2e722d7-2ba2-4bd2-e6a8-debe3f92241b"
      },
      "execution_count": 80,
      "outputs": [
        {
          "output_type": "execute_result",
          "data": {
            "text/plain": [
              "age      29.190101\n",
              "sibsp     0.524184\n",
              "parch     0.382452\n",
              "fare     32.096681\n",
              "dtype: float64"
            ]
          },
          "metadata": {},
          "execution_count": 80
        }
      ]
    },
    {
      "cell_type": "markdown",
      "source": [
        "The average age was 29 years."
      ],
      "metadata": {
        "id": "Sjd4tOtAEGUq"
      }
    },
    {
      "cell_type": "code",
      "source": [
        "# Finding Median\n",
        "\n",
        "num_cols.median()"
      ],
      "metadata": {
        "colab": {
          "base_uri": "https://localhost:8080/"
        },
        "id": "We9M4N8sD-ec",
        "outputId": "6565879c-50ca-45fd-ac3a-4470a246ab5d"
      },
      "execution_count": 81,
      "outputs": [
        {
          "output_type": "execute_result",
          "data": {
            "text/plain": [
              "age      26.0000\n",
              "sibsp     0.0000\n",
              "parch     0.0000\n",
              "fare     14.4542\n",
              "dtype: float64"
            ]
          },
          "metadata": {},
          "execution_count": 81
        }
      ]
    },
    {
      "cell_type": "code",
      "source": [
        "# Measure of Dispersion\n",
        "\n",
        "# Finding Variance\n",
        "num_cols.var()"
      ],
      "metadata": {
        "colab": {
          "base_uri": "https://localhost:8080/"
        },
        "id": "pj9XdU5XEPVb",
        "outputId": "1b762cb0-51af-453b-fce1-57400a391ffa"
      },
      "execution_count": 82,
      "outputs": [
        {
          "output_type": "execute_result",
          "data": {
            "text/plain": [
              "age       173.870352\n",
              "sibsp       1.218164\n",
              "parch       0.650863\n",
              "fare     2469.841935\n",
              "dtype: float64"
            ]
          },
          "metadata": {},
          "execution_count": 82
        }
      ]
    },
    {
      "cell_type": "code",
      "source": [
        "# Finding Standard Deviation\n",
        "num_cols.std()"
      ],
      "metadata": {
        "colab": {
          "base_uri": "https://localhost:8080/"
        },
        "id": "ejod4oehEmQp",
        "outputId": "ccaabcee-408c-4848-c22e-e0f31334e15d"
      },
      "execution_count": 83,
      "outputs": [
        {
          "output_type": "execute_result",
          "data": {
            "text/plain": [
              "age      13.185991\n",
              "sibsp     1.103705\n",
              "parch     0.806761\n",
              "fare     49.697504\n",
              "dtype: float64"
            ]
          },
          "metadata": {},
          "execution_count": 83
        }
      ]
    },
    {
      "cell_type": "code",
      "source": [
        "# Finding the Skewness \n",
        "num_cols.skew()"
      ],
      "metadata": {
        "colab": {
          "base_uri": "https://localhost:8080/"
        },
        "id": "n3r86nTvE7Gw",
        "outputId": "7b45b0ac-d35b-460b-d31c-47680da9de53"
      },
      "execution_count": 84,
      "outputs": [
        {
          "output_type": "execute_result",
          "data": {
            "text/plain": [
              "age      0.509112\n",
              "sibsp    3.691058\n",
              "parch    2.745160\n",
              "fare     4.801440\n",
              "dtype: float64"
            ]
          },
          "metadata": {},
          "execution_count": 84
        }
      ]
    },
    {
      "cell_type": "code",
      "source": [
        "# Finding kurtosis\n",
        "num_cols.kurt()"
      ],
      "metadata": {
        "colab": {
          "base_uri": "https://localhost:8080/"
        },
        "id": "TproWFZQFb12",
        "outputId": "846cfaab-1c4d-49f8-84a5-cbeabf874ebc"
      },
      "execution_count": 85,
      "outputs": [
        {
          "output_type": "execute_result",
          "data": {
            "text/plain": [
              "age       0.807139\n",
              "sibsp    17.838972\n",
              "parch     9.750592\n",
              "fare     33.508477\n",
              "dtype: float64"
            ]
          },
          "metadata": {},
          "execution_count": 85
        }
      ]
    },
    {
      "cell_type": "code",
      "source": [
        "# Categorical data\n",
        "#Frequency table for the categorical data\n",
        "\n",
        "\n",
        "print(df_train['embarked'].value_counts())\n",
        "print('\\n')\n",
        "print(df_train['pclass'].value_counts())\n",
        "print('\\n')\n",
        "print(df_train['survived'].value_counts())\n",
        "print('\\n')\n",
        "print(df_train['sex'].value_counts())"
      ],
      "metadata": {
        "colab": {
          "base_uri": "https://localhost:8080/"
        },
        "id": "2yQ65Z9dFhmt",
        "outputId": "10f9e144-a807-4e9a-bdd6-983b3720b39e"
      },
      "execution_count": 78,
      "outputs": [
        {
          "output_type": "stream",
          "name": "stdout",
          "text": [
            "S    644\n",
            "C    168\n",
            "Q     77\n",
            "Name: embarked, dtype: int64\n",
            "\n",
            "\n",
            "3    491\n",
            "1    214\n",
            "2    184\n",
            "Name: pclass, dtype: int64\n",
            "\n",
            "\n",
            "0    549\n",
            "1    340\n",
            "Name: survived, dtype: int64\n",
            "\n",
            "\n",
            "male      577\n",
            "female    312\n",
            "Name: sex, dtype: int64\n"
          ]
        }
      ]
    },
    {
      "cell_type": "markdown",
      "source": [
        "\n",
        "\n",
        "*   Most passengers embarked Southampton, then Cherbourg and lastly Quenstown.\n",
        "*   Most of the passengers in our dataset, were in 3rd Class and the least were in 2nd Class.\n",
        "*   Most passengers from our dataset survived(549).\n",
        "*   From our dataset, most passengers were male(577) compared to female(312).\n",
        "\n",
        "\n",
        "\n"
      ],
      "metadata": {
        "id": "wlyozCyVG39D"
      }
    },
    {
      "cell_type": "markdown",
      "source": [
        "### **Bivariate Analysis**"
      ],
      "metadata": {
        "id": "Y3PusIZEIABG"
      }
    },
    {
      "cell_type": "code",
      "source": [
        "# Checking surviving status according to sex\n",
        "df_train[['survived','sex']].value_counts(sort = False)"
      ],
      "metadata": {
        "colab": {
          "base_uri": "https://localhost:8080/"
        },
        "id": "LvAU0mU8GAMK",
        "outputId": "e69def39-e108-450c-c723-a00629f57e5a"
      },
      "execution_count": 90,
      "outputs": [
        {
          "output_type": "execute_result",
          "data": {
            "text/plain": [
              "survived  sex   \n",
              "0         female     81\n",
              "          male      468\n",
              "1         female    231\n",
              "          male      109\n",
              "dtype: int64"
            ]
          },
          "metadata": {},
          "execution_count": 90
        }
      ]
    },
    {
      "cell_type": "code",
      "source": [
        "#Surviving status according to Sex\n",
        "sns.catplot(x='survived',hue='sex',data=df_train,kind='count',aspect=2)\n",
        "plt.title('Surviving Status According to Sex',weight='bold')"
      ],
      "metadata": {
        "colab": {
          "base_uri": "https://localhost:8080/",
          "height": 402
        },
        "id": "tOmOiaDeIMLZ",
        "outputId": "3c40aec1-4db0-4acb-f379-15728c949205"
      },
      "execution_count": 93,
      "outputs": [
        {
          "output_type": "execute_result",
          "data": {
            "text/plain": [
              "Text(0.5, 1.0, 'Surviving Status According to Sex')"
            ]
          },
          "metadata": {},
          "execution_count": 93
        },
        {
          "output_type": "display_data",
          "data": {
            "image/png": "[encoded data removed]",
            "text/plain": [
              "<Figure size 790.5x360 with 1 Axes>"
            ]
          },
          "metadata": {
            "needs_background": "light"
          }
        }
      ]
    },
    {
      "cell_type": "markdown",
      "source": [
        "Most male passengers did not survive the accident. Most females however survived compared to the male."
      ],
      "metadata": {
        "id": "Oq2vHN3NKoC_"
      }
    },
    {
      "cell_type": "code",
      "source": [
        "# Checking surviving status according to passenger class\n",
        "df_train[['survived','pclass']].value_counts(sort = False)"
      ],
      "metadata": {
        "colab": {
          "base_uri": "https://localhost:8080/"
        },
        "id": "KPfvapfuK1Jr",
        "outputId": "7a9ab0df-ffe1-4841-e9c6-2ecdcecf0c8c"
      },
      "execution_count": 94,
      "outputs": [
        {
          "output_type": "execute_result",
          "data": {
            "text/plain": [
              "survived  pclass\n",
              "0         1          80\n",
              "          2          97\n",
              "          3         372\n",
              "1         1         134\n",
              "          2          87\n",
              "          3         119\n",
              "dtype: int64"
            ]
          },
          "metadata": {},
          "execution_count": 94
        }
      ]
    },
    {
      "cell_type": "code",
      "source": [
        "sns.catplot(x='survived',hue='pclass',data=df_train,kind='count',aspect=2)\n",
        "plt.title('Surviving Status According to Passenger Class',weight='bold')"
      ],
      "metadata": {
        "colab": {
          "base_uri": "https://localhost:8080/",
          "height": 402
        },
        "id": "bNdW-SZRK__d",
        "outputId": "f24057d8-d6d8-4b1f-d2a9-4f38536e08ff"
      },
      "execution_count": 96,
      "outputs": [
        {
          "output_type": "execute_result",
          "data": {
            "text/plain": [
              "Text(0.5, 1.0, 'Surviving Status According to Passenger Class')"
            ]
          },
          "metadata": {},
          "execution_count": 96
        },
        {
          "output_type": "display_data",
          "data": {
            "image/png": "[encoded data removed]",
            "text/plain": [
              "<Figure size 762.375x360 with 1 Axes>"
            ]
          },
          "metadata": {
            "needs_background": "light"
          }
        }
      ]
    },
    {
      "cell_type": "markdown",
      "source": [
        "Most survivors were in the first class while most passengers in the 3rd class did not survive."
      ],
      "metadata": {
        "id": "soEwP97VLOgL"
      }
    },
    {
      "cell_type": "code",
      "source": [
        "# Checking the correlation\n",
        "plt.figure(figsize=(15,7))\n",
        "sns.heatmap(df_train.corr(),linewidths=5, annot=True)"
      ],
      "metadata": {
        "colab": {
          "base_uri": "https://localhost:8080/",
          "height": 449
        },
        "id": "vuoOWxkALZAB",
        "outputId": "3e2fad8d-7cd5-4847-cd4c-b11b95d43d3a"
      },
      "execution_count": 103,
      "outputs": [
        {
          "output_type": "execute_result",
          "data": {
            "text/plain": [
              "<matplotlib.axes._subplots.AxesSubplot at 0x7fee49d0a6d0>"
            ]
          },
          "metadata": {},
          "execution_count": 103
        },
        {
          "output_type": "display_data",
          "data": {
            "image/png": "[encoded data removed]",
            "text/plain": [
              "<Figure size 1080x504 with 2 Axes>"
            ]
          },
          "metadata": {
            "needs_background": "light"
          }
        }
      ]
    },
    {
      "cell_type": "markdown",
      "source": [
        "From the heatmap above, there are no features that are strongly correlated. \n",
        "\n",
        "Passenger class and fare are weakly negatively correlated."
      ],
      "metadata": {
        "id": "-lJBdDccPLjo"
      }
    },
    {
      "cell_type": "code",
      "source": [
        "#Checking multicollinearity\n",
        "# Pick independent variables only.\n",
        "independent=df_train.drop(columns=[\"survived\"])\n",
        "\n",
        "# Let's display the correlations between the variables\n",
        "correlations=independent.corr()\n",
        "correlations"
      ],
      "metadata": {
        "colab": {
          "base_uri": "https://localhost:8080/",
          "height": 238
        },
        "id": "jQUBGCv1MTy0",
        "outputId": "7b8870d2-5b09-496b-a288-5fed8a530e1c"
      },
      "execution_count": 104,
      "outputs": [
        {
          "output_type": "execute_result",
          "data": {
            "text/html": [
              "<div>\n",
              "<style scoped>\n",
              "    .dataframe tbody tr th:only-of-type {\n",
              "        vertical-align: middle;\n",
              "    }\n",
              "\n",
              "    .dataframe tbody tr th {\n",
              "        vertical-align: top;\n",
              "    }\n",
              "\n",
              "    .dataframe thead th {\n",
              "        text-align: right;\n",
              "    }\n",
              "</style>\n",
              "<table border=\"1\" class=\"dataframe\">\n",
              "  <thead>\n",
              "    <tr style=\"text-align: right;\">\n",
              "      <th></th>\n",
              "      <th>passengerid</th>\n",
              "      <th>pclass</th>\n",
              "      <th>age</th>\n",
              "      <th>sibsp</th>\n",
              "      <th>parch</th>\n",
              "      <th>fare</th>\n",
              "    </tr>\n",
              "  </thead>\n",
              "  <tbody>\n",
              "    <tr>\n",
              "      <th>passengerid</th>\n",
              "      <td>1.000000</td>\n",
              "      <td>-0.035330</td>\n",
              "      <td>0.032655</td>\n",
              "      <td>-0.057686</td>\n",
              "      <td>-0.001657</td>\n",
              "      <td>0.012703</td>\n",
              "    </tr>\n",
              "    <tr>\n",
              "      <th>pclass</th>\n",
              "      <td>-0.035330</td>\n",
              "      <td>1.000000</td>\n",
              "      <td>-0.401044</td>\n",
              "      <td>0.081656</td>\n",
              "      <td>0.016824</td>\n",
              "      <td>-0.548193</td>\n",
              "    </tr>\n",
              "    <tr>\n",
              "      <th>age</th>\n",
              "      <td>0.032655</td>\n",
              "      <td>-0.401044</td>\n",
              "      <td>1.000000</td>\n",
              "      <td>-0.242163</td>\n",
              "      <td>-0.174100</td>\n",
              "      <td>0.118798</td>\n",
              "    </tr>\n",
              "    <tr>\n",
              "      <th>sibsp</th>\n",
              "      <td>-0.057686</td>\n",
              "      <td>0.081656</td>\n",
              "      <td>-0.242163</td>\n",
              "      <td>1.000000</td>\n",
              "      <td>0.414542</td>\n",
              "      <td>0.160887</td>\n",
              "    </tr>\n",
              "    <tr>\n",
              "      <th>parch</th>\n",
              "      <td>-0.001657</td>\n",
              "      <td>0.016824</td>\n",
              "      <td>-0.174100</td>\n",
              "      <td>0.414542</td>\n",
              "      <td>1.000000</td>\n",
              "      <td>0.217532</td>\n",
              "    </tr>\n",
              "    <tr>\n",
              "      <th>fare</th>\n",
              "      <td>0.012703</td>\n",
              "      <td>-0.548193</td>\n",
              "      <td>0.118798</td>\n",
              "      <td>0.160887</td>\n",
              "      <td>0.217532</td>\n",
              "      <td>1.000000</td>\n",
              "    </tr>\n",
              "  </tbody>\n",
              "</table>\n",
              "</div>"
            ],
            "text/plain": [
              "             passengerid    pclass       age     sibsp     parch      fare\n",
              "passengerid     1.000000 -0.035330  0.032655 -0.057686 -0.001657  0.012703\n",
              "pclass         -0.035330  1.000000 -0.401044  0.081656  0.016824 -0.548193\n",
              "age             0.032655 -0.401044  1.000000 -0.242163 -0.174100  0.118798\n",
              "sibsp          -0.057686  0.081656 -0.242163  1.000000  0.414542  0.160887\n",
              "parch          -0.001657  0.016824 -0.174100  0.414542  1.000000  0.217532\n",
              "fare            0.012703 -0.548193  0.118798  0.160887  0.217532  1.000000"
            ]
          },
          "metadata": {},
          "execution_count": 104
        }
      ]
    },
    {
      "cell_type": "code",
      "source": [
        "# Checking for multicollinearity using the VIF \n",
        "vif= pd.DataFrame(np.linalg.inv(correlations.values), index = correlations.index, columns=correlations.columns)\n",
        "vif"
      ],
      "metadata": {
        "colab": {
          "base_uri": "https://localhost:8080/",
          "height": 238
        },
        "id": "Lv27wC9lP3Jt",
        "outputId": "ad015b20-479c-4099-dd1e-65b1bd4647bb"
      },
      "execution_count": 105,
      "outputs": [
        {
          "output_type": "execute_result",
          "data": {
            "text/html": [
              "<div>\n",
              "<style scoped>\n",
              "    .dataframe tbody tr th:only-of-type {\n",
              "        vertical-align: middle;\n",
              "    }\n",
              "\n",
              "    .dataframe tbody tr th {\n",
              "        vertical-align: top;\n",
              "    }\n",
              "\n",
              "    .dataframe thead th {\n",
              "        text-align: right;\n",
              "    }\n",
              "</style>\n",
              "<table border=\"1\" class=\"dataframe\">\n",
              "  <thead>\n",
              "    <tr style=\"text-align: right;\">\n",
              "      <th></th>\n",
              "      <th>passengerid</th>\n",
              "      <th>pclass</th>\n",
              "      <th>age</th>\n",
              "      <th>sibsp</th>\n",
              "      <th>parch</th>\n",
              "      <th>fare</th>\n",
              "    </tr>\n",
              "  </thead>\n",
              "  <tbody>\n",
              "    <tr>\n",
              "      <th>passengerid</th>\n",
              "      <td>1.004974</td>\n",
              "      <td>0.024701</td>\n",
              "      <td>-0.011671</td>\n",
              "      <td>0.064747</td>\n",
              "      <td>-0.027110</td>\n",
              "      <td>-0.002359</td>\n",
              "    </tr>\n",
              "    <tr>\n",
              "      <th>pclass</th>\n",
              "      <td>0.024701</td>\n",
              "      <td>1.736979</td>\n",
              "      <td>0.541155</td>\n",
              "      <td>-0.122918</td>\n",
              "      <td>-0.085439</td>\n",
              "      <td>0.925960</td>\n",
              "    </tr>\n",
              "    <tr>\n",
              "      <th>age</th>\n",
              "      <td>-0.011671</td>\n",
              "      <td>0.541155</td>\n",
              "      <td>1.275361</td>\n",
              "      <td>0.204610</td>\n",
              "      <td>0.108800</td>\n",
              "      <td>0.088709</td>\n",
              "    </tr>\n",
              "    <tr>\n",
              "      <th>sibsp</th>\n",
              "      <td>0.064747</td>\n",
              "      <td>-0.122918</td>\n",
              "      <td>0.204610</td>\n",
              "      <td>1.282197</td>\n",
              "      <td>-0.450023</td>\n",
              "      <td>-0.200907</td>\n",
              "    </tr>\n",
              "    <tr>\n",
              "      <th>parch</th>\n",
              "      <td>-0.027110</td>\n",
              "      <td>-0.085439</td>\n",
              "      <td>0.108800</td>\n",
              "      <td>-0.450023</td>\n",
              "      <td>1.263870</td>\n",
              "      <td>-0.261947</td>\n",
              "    </tr>\n",
              "    <tr>\n",
              "      <th>fare</th>\n",
              "      <td>-0.002359</td>\n",
              "      <td>0.925960</td>\n",
              "      <td>0.088709</td>\n",
              "      <td>-0.200907</td>\n",
              "      <td>-0.261947</td>\n",
              "      <td>1.586402</td>\n",
              "    </tr>\n",
              "  </tbody>\n",
              "</table>\n",
              "</div>"
            ],
            "text/plain": [
              "             passengerid    pclass       age     sibsp     parch      fare\n",
              "passengerid     1.004974  0.024701 -0.011671  0.064747 -0.027110 -0.002359\n",
              "pclass          0.024701  1.736979  0.541155 -0.122918 -0.085439  0.925960\n",
              "age            -0.011671  0.541155  1.275361  0.204610  0.108800  0.088709\n",
              "sibsp           0.064747 -0.122918  0.204610  1.282197 -0.450023 -0.200907\n",
              "parch          -0.027110 -0.085439  0.108800 -0.450023  1.263870 -0.261947\n",
              "fare           -0.002359  0.925960  0.088709 -0.200907 -0.261947  1.586402"
            ]
          },
          "metadata": {},
          "execution_count": 105
        }
      ]
    },
    {
      "cell_type": "markdown",
      "source": [
        "##### There is no high correlation between variables as all VIFs are below 5. "
      ],
      "metadata": {
        "id": "Y20hWnflQG3V"
      }
    },
    {
      "cell_type": "markdown",
      "source": [
        "### **Implementing the Solution**"
      ],
      "metadata": {
        "id": "ZuHIl-ALQY7W"
      }
    },
    {
      "cell_type": "code",
      "source": [
        "df_train.drop(['name', 'ticket', 'passengerid'], axis = 1, inplace=True)"
      ],
      "metadata": {
        "id": "ybS5sTd_P567"
      },
      "execution_count": 107,
      "outputs": []
    },
    {
      "cell_type": "code",
      "source": [
        "# Encoding the two categorical columns using Label Encoder\n",
        "\n",
        "from sklearn.preprocessing import LabelEncoder\n",
        "\n",
        "labelencoder = LabelEncoder()\n",
        "\n",
        "df_train['sex'] = labelencoder.fit_transform(df_train['sex'])\n",
        "df_train['embarked'] = labelencoder.fit_transform(df_train['embarked'])"
      ],
      "metadata": {
        "id": "-aadoddnQ14v"
      },
      "execution_count": 109,
      "outputs": []
    },
    {
      "cell_type": "code",
      "source": [
        "X = df_train.drop(['survived'], axis =1)\n",
        "y = df_train['survived']"
      ],
      "metadata": {
        "id": "3M55bG3TRlll"
      },
      "execution_count": 110,
      "outputs": []
    },
    {
      "cell_type": "markdown",
      "source": [
        "##### **a) 80-20 test size split**"
      ],
      "metadata": {
        "id": "2fwiniZdS3Er"
      }
    },
    {
      "cell_type": "code",
      "source": [
        "# Splitting the data into train and test\n",
        "from sklearn.model_selection import train_test_split\n",
        "X_train, X_test, y_train, y_test = train_test_split(X, y, test_size=0.2, random_state=0)\n",
        "\n",
        "# Feature scaling using Standard Scaler\n",
        "from sklearn.preprocessing import StandardScaler\n",
        "scaler = StandardScaler()\n",
        "scaler.fit(X_train)\n",
        "\n",
        "X_train = scaler.transform(X_train)\n",
        "X_test = scaler.transform(X_test)"
      ],
      "metadata": {
        "id": "OVY7sl-mR0k9"
      },
      "execution_count": 111,
      "outputs": []
    },
    {
      "cell_type": "code",
      "source": [
        "# Hypeparameter tuning\n",
        "\n",
        "from sklearn.neighbors import KNeighborsClassifier\n",
        "from sklearn.model_selection import GridSearchCV\n",
        "\n",
        "params = { 'n_neighbors' : [5,7,9,11,13,15],\n",
        "            'weights' : ['uniform','distance'],\n",
        "             \"p\":[1,2],\n",
        "            'weights': ['uniform','distance'],\n",
        "             \"leaf_size\" : [1,2,3,4,5],\n",
        "             'metric' : ['minkowski','euclidean','manhattan']}\n",
        "knn = KNeighborsClassifier()\n",
        "\n",
        "# Fitting the model with the best parameters\n",
        "model = GridSearchCV(knn, params, cv=5)\n",
        "model.fit(X_train,y_train)\n",
        "model.best_params_"
      ],
      "metadata": {
        "colab": {
          "base_uri": "https://localhost:8080/"
        },
        "id": "lwGNWlu4TSM9",
        "outputId": "1ef928c7-73f7-4398-8d64-b4f35d24c41e"
      },
      "execution_count": 113,
      "outputs": [
        {
          "output_type": "execute_result",
          "data": {
            "text/plain": [
              "{'leaf_size': 1,\n",
              " 'metric': 'minkowski',\n",
              " 'n_neighbors': 13,\n",
              " 'p': 1,\n",
              " 'weights': 'uniform'}"
            ]
          },
          "metadata": {},
          "execution_count": 113
        }
      ]
    },
    {
      "cell_type": "code",
      "source": [
        "# Fitting our model\n",
        "\n",
        "\n",
        "clf = KNeighborsClassifier(leaf_size=1,metric=\"minkowski\",n_neighbors= 13,p= 1,weights='uniform')\n",
        "clf.fit(X_train, y_train)\n",
        "\n",
        "# Predicting\n",
        "\n",
        "y_pred= clf.predict(X_test)\n",
        "\n",
        "# The confusion_matrix and classification_report\n",
        "\n",
        "print(confusion_matrix(y_test, y_pred))\n",
        "print(classification_report(y_test, y_pred))"
      ],
      "metadata": {
        "colab": {
          "base_uri": "https://localhost:8080/"
        },
        "id": "_2NtwM5wTYjE",
        "outputId": "b894262c-1d2a-4197-c215-d2560b3d9677"
      },
      "execution_count": 118,
      "outputs": [
        {
          "output_type": "stream",
          "name": "stdout",
          "text": [
            "[[88 17]\n",
            " [29 44]]\n",
            "              precision    recall  f1-score   support\n",
            "\n",
            "           0       0.75      0.84      0.79       105\n",
            "           1       0.72      0.60      0.66        73\n",
            "\n",
            "    accuracy                           0.74       178\n",
            "   macro avg       0.74      0.72      0.72       178\n",
            "weighted avg       0.74      0.74      0.74       178\n",
            "\n"
          ]
        }
      ]
    },
    {
      "cell_type": "markdown",
      "source": [
        "\n",
        "\n",
        "\n",
        "\n",
        "\n",
        "---\n",
        "\n",
        "\n",
        "\n",
        "---\n",
        "\n",
        "\n",
        "*   In the confusion matrix, 88 were predicted accurately for those that did not survive while 29 were not predicted accurately. For those that survived, 44 was predicted accurately and 17 were not accurately predicted.\n",
        "\n",
        "\n",
        "\n",
        "\n",
        "---\n",
        "\n",
        "\n",
        "*   In the classification report:\n",
        "\n",
        "*   Class 0 has a higher precision compared to class 1.\n",
        "\n",
        "*   Class 0 has a higher recall compared to class 1.\n",
        "*   The accuracy of the model is 74%\n",
        "\n",
        "\n",
        "---\n",
        "\n",
        "\n",
        "\n",
        "---\n",
        "\n",
        "\n",
        "\n",
        "\n",
        "\n",
        "\n",
        "\n",
        "\n",
        "\n",
        "\n",
        "\n",
        "\n",
        "\n",
        "\n",
        "\n"
      ],
      "metadata": {
        "id": "veciGN-7V0km"
      }
    },
    {
      "cell_type": "markdown",
      "source": [
        "##### **b) 70-30 test size split**"
      ],
      "metadata": {
        "id": "KCkfWt4PYK3m"
      }
    },
    {
      "cell_type": "code",
      "source": [
        "# Splitting the data into train and test\n",
        "\n",
        "X_train, X_test, y_train, y_test = train_test_split(X, y, test_size=0.3, random_state=0)\n",
        "\n",
        "# Feature scaling using Standard Scaler\n",
        "\n",
        "scaler = StandardScaler()\n",
        "scaler.fit(X_train)\n",
        "\n",
        "X_train = scaler.transform(X_train)\n",
        "X_test = scaler.transform(X_test)"
      ],
      "metadata": {
        "id": "5o4YZgI5T_nB"
      },
      "execution_count": 119,
      "outputs": []
    },
    {
      "cell_type": "code",
      "source": [
        "params = { 'n_neighbors' : [5,7,9,11,13,15],\n",
        "            'weights' : ['uniform','distance'],\n",
        "             \"p\":[1,2],\n",
        "            'weights': ['uniform','distance'],\n",
        "             \"leaf_size\" : [1,2,3,4,5],\n",
        "             'metric' : ['minkowski','euclidean','manhattan']}\n",
        "knn = KNeighborsClassifier()\n",
        "\n",
        "# Fitting the model with the best parameters\n",
        "model = GridSearchCV(knn, params, cv=5)\n",
        "model.fit(X_train,y_train)\n",
        "model.best_params_"
      ],
      "metadata": {
        "colab": {
          "base_uri": "https://localhost:8080/"
        },
        "id": "8mq14FnoYW2O",
        "outputId": "ff4ebde7-97d0-4535-9e29-cd4f8b5a1255"
      },
      "execution_count": 120,
      "outputs": [
        {
          "output_type": "execute_result",
          "data": {
            "text/plain": [
              "{'leaf_size': 1,\n",
              " 'metric': 'minkowski',\n",
              " 'n_neighbors': 11,\n",
              " 'p': 1,\n",
              " 'weights': 'uniform'}"
            ]
          },
          "metadata": {},
          "execution_count": 120
        }
      ]
    },
    {
      "cell_type": "code",
      "source": [
        "# Fitting our model\n",
        "\n",
        "\n",
        "clf = KNeighborsClassifier(leaf_size=1,metric=\"minkowski\",n_neighbors= 11,p= 1,weights='uniform')\n",
        "clf.fit(X_train, y_train)\n",
        "\n",
        "# Predicting\n",
        "\n",
        "y_pred= clf.predict(X_test)\n",
        "\n",
        "# The confusion_matrix and classification_report\n",
        "\n",
        "print(confusion_matrix(y_test, y_pred))\n",
        "print(classification_report(y_test, y_pred))"
      ],
      "metadata": {
        "colab": {
          "base_uri": "https://localhost:8080/"
        },
        "id": "Y912V50IYbDe",
        "outputId": "32dd2287-8b1e-4356-9da9-9a61fc949496"
      },
      "execution_count": 121,
      "outputs": [
        {
          "output_type": "stream",
          "name": "stdout",
          "text": [
            "[[140  17]\n",
            " [ 39  71]]\n",
            "              precision    recall  f1-score   support\n",
            "\n",
            "           0       0.78      0.89      0.83       157\n",
            "           1       0.81      0.65      0.72       110\n",
            "\n",
            "    accuracy                           0.79       267\n",
            "   macro avg       0.79      0.77      0.78       267\n",
            "weighted avg       0.79      0.79      0.79       267\n",
            "\n"
          ]
        }
      ]
    },
    {
      "cell_type": "markdown",
      "source": [
        "\n",
        "\n",
        "\n",
        "\n",
        "\n",
        "---\n",
        "\n",
        "\n",
        "\n",
        "---\n",
        "\n",
        "\n",
        "*   In the confusion matrix, 140 were predicted accurately for those that did not survive while 39 were not predicted accurately. For those that survived, 71 was predicted accurately and 17 were not accurately predicted.\n",
        "\n",
        "\n",
        "\n",
        "\n",
        "---\n",
        "\n",
        "\n",
        "*   In the classification report:\n",
        "\n",
        "*   Class 1 has a higher precision compared to class 0.\n",
        "\n",
        "*   Class 0 has a higher recall compared to class 1.\n",
        "*   The accuracy of the model is 79%\n",
        "\n",
        "\n",
        "---\n",
        "\n",
        "\n",
        "\n",
        "---\n"
      ],
      "metadata": {
        "id": "69sa1xWgYsWA"
      }
    },
    {
      "cell_type": "markdown",
      "source": [
        "##### **c) 60-40 test size split**"
      ],
      "metadata": {
        "id": "jNfPrX_QZKlg"
      }
    },
    {
      "cell_type": "code",
      "source": [
        "# Splitting the data into train and test\n",
        "\n",
        "X_train, X_test, y_train, y_test = train_test_split(X, y, test_size=0.4, random_state=0)\n",
        "\n",
        "# Feature scaling using Standard Scaler\n",
        "\n",
        "scaler = StandardScaler()\n",
        "scaler.fit(X_train)\n",
        "\n",
        "X_train = scaler.transform(X_train)\n",
        "X_test = scaler.transform(X_test)"
      ],
      "metadata": {
        "id": "67mNXFt5Yjq0"
      },
      "execution_count": 122,
      "outputs": []
    },
    {
      "cell_type": "code",
      "source": [
        "params = { 'n_neighbors' : [5,7,9,11,13,15],\n",
        "            'weights' : ['uniform','distance'],\n",
        "             \"p\":[1,2],\n",
        "            'weights': ['uniform','distance'],\n",
        "             \"leaf_size\" : [1,2,3,4,5],\n",
        "             'metric' : ['minkowski','euclidean','manhattan']}\n",
        "knn = KNeighborsClassifier()\n",
        "\n",
        "# Fitting the model with the best parameters\n",
        "model = GridSearchCV(knn, params, cv=5)\n",
        "model.fit(X_train,y_train)\n",
        "model.best_params_"
      ],
      "metadata": {
        "colab": {
          "base_uri": "https://localhost:8080/"
        },
        "id": "TSxZ5gPyZYTD",
        "outputId": "faa6ee35-7dd6-4f3f-8b7e-c01a4b43c67b"
      },
      "execution_count": 123,
      "outputs": [
        {
          "output_type": "execute_result",
          "data": {
            "text/plain": [
              "{'leaf_size': 1,\n",
              " 'metric': 'minkowski',\n",
              " 'n_neighbors': 11,\n",
              " 'p': 2,\n",
              " 'weights': 'uniform'}"
            ]
          },
          "metadata": {},
          "execution_count": 123
        }
      ]
    },
    {
      "cell_type": "code",
      "source": [
        "# Fitting our model\n",
        "\n",
        "\n",
        "clf = KNeighborsClassifier(leaf_size=1,metric=\"minkowski\",n_neighbors= 11,p= 2,weights='uniform')\n",
        "clf.fit(X_train, y_train)\n",
        "\n",
        "# Predicting\n",
        "\n",
        "y_pred= clf.predict(X_test)\n",
        "\n",
        "# The confusion_matrix and classification_report\n",
        "\n",
        "print(confusion_matrix(y_test, y_pred))\n",
        "print(classification_report(y_test, y_pred))"
      ],
      "metadata": {
        "colab": {
          "base_uri": "https://localhost:8080/"
        },
        "id": "111bI9n5Zddf",
        "outputId": "dbe02224-43c0-4bf0-c9cc-2f8a8f21fd8e"
      },
      "execution_count": 124,
      "outputs": [
        {
          "output_type": "stream",
          "name": "stdout",
          "text": [
            "[[191  25]\n",
            " [ 50  90]]\n",
            "              precision    recall  f1-score   support\n",
            "\n",
            "           0       0.79      0.88      0.84       216\n",
            "           1       0.78      0.64      0.71       140\n",
            "\n",
            "    accuracy                           0.79       356\n",
            "   macro avg       0.79      0.76      0.77       356\n",
            "weighted avg       0.79      0.79      0.78       356\n",
            "\n"
          ]
        }
      ]
    },
    {
      "cell_type": "markdown",
      "source": [
        "\n",
        "\n",
        "\n",
        "\n",
        "\n",
        "---\n",
        "\n",
        "\n",
        "\n",
        "---\n",
        "\n",
        "\n",
        "*   In the confusion matrix, 191 were predicted accurately for those that did not survive while 50 were not predicted accurately. For those that survived, 90 was predicted accurately and 25 were not accurately predicted.\n",
        "\n",
        "\n",
        "\n",
        "\n",
        "---\n",
        "\n",
        "\n",
        "*   In the classification report:\n",
        "\n",
        "*   Class 0 has a higher precision compared to class 1.\n",
        "\n",
        "*   Class 0 has a higher recall compared to class 1.\n",
        "*   The accuracy of the model is 79%\n",
        "\n",
        "\n",
        "---\n",
        "\n",
        "\n",
        "\n",
        "---\n"
      ],
      "metadata": {
        "id": "P3rgx5IRZp9F"
      }
    },
    {
      "cell_type": "markdown",
      "source": [
        "The 70-30 and the 60-40 test size split model have high accuracy of 79% compared to the 80-20 test size split."
      ],
      "metadata": {
        "id": "fOajyLXqaOTQ"
      }
    },
    {
      "cell_type": "markdown",
      "source": [
        "### **Challenging the Solution**"
      ],
      "metadata": {
        "id": "CbUm5Q3tdWzu"
      }
    },
    {
      "cell_type": "code",
      "source": [
        "# Reviewing the Solution \n",
        "# Let's fit the model on Random Forest Classifier to challenge our solution\n",
        "\n",
        "X_train, X_test, y_train, y_test = train_test_split(X,y, test_size = 0.2, random_state = 0)\n",
        "\n",
        "\n",
        "from sklearn.ensemble import RandomForestRegressor\n",
        "forest = RandomForestRegressor(n_estimators = 100, random_state=42, min_samples_split = 20, max_depth=5)\n",
        "forest = forest.fit(X_train, y_train)\n",
        "\n",
        "# Predicting\n",
        "y_pred = forest.predict(X_test)\n",
        "\n",
        "from sklearn import metrics\n",
        "\n",
        "\n",
        "print('Mean Absolute Error:', metrics.mean_absolute_error(y_test, y_pred))  \n",
        "print('Mean Squared Error:', metrics.mean_squared_error(y_test, y_pred))  \n",
        "print('Root Mean Squared Error:', np.sqrt(metrics.mean_squared_error(y_test, y_pred)))"
      ],
      "metadata": {
        "colab": {
          "base_uri": "https://localhost:8080/"
        },
        "id": "i0af-3WhZkUn",
        "outputId": "954f3cdc-4d26-4992-a494-4b362a630940"
      },
      "execution_count": 125,
      "outputs": [
        {
          "output_type": "stream",
          "name": "stdout",
          "text": [
            "Mean Absolute Error: 0.3003919044060917\n",
            "Mean Squared Error: 0.17928645086384165\n",
            "Root Mean Squared Error: 0.42342230794307667\n"
          ]
        }
      ]
    },
    {
      "cell_type": "markdown",
      "source": [
        "### **a). Did we have the right data?**\n",
        "\n",
        "Yes, we had the right data to create the model.\n",
        "\n",
        "### **b). Do we need other data to answer our question?**\n",
        "\n",
        "The data had sufficient features for creating a model.\n",
        "\n",
        "### **c). Did we have the right question?**\n",
        "\n",
        "Yes, we had the right question."
      ],
      "metadata": {
        "id": "M2hkjtW_cU47"
      }
    }
  ]
}